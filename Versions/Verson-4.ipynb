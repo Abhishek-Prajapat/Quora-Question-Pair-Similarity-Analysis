{
  "nbformat": 4,
  "nbformat_minor": 0,
  "metadata": {
    "colab": {
      "name": "Using Pretrained Embeddings.ipynb",
      "provenance": [],
      "collapsed_sections": [
        "geSbYOzYVX6d",
        "NiOeoMm0dPKf",
        "9c_rzNYWVEGF",
        "__ShH3kqVbHm",
        "CsR9PuyKl4tX",
        "CCdWlsImXuBs",
        "wFs5RjytYvod",
        "OeORyh88aDQY",
        "1pwYnauhD4VO",
        "K5RwKIHkD8ph"
      ]
    },
    "kernelspec": {
      "name": "python3",
      "display_name": "Python 3"
    },
    "accelerator": "GPU",
    "widgets": {
      "application/vnd.jupyter.widget-state+json": {
        "fc2a243dd5d54ee197291d80c56da9fe": {
          "model_module": "@jupyter-widgets/controls",
          "model_name": "HBoxModel",
          "state": {
            "_view_name": "HBoxView",
            "_dom_classes": [],
            "_model_name": "HBoxModel",
            "_view_module": "@jupyter-widgets/controls",
            "_model_module_version": "1.5.0",
            "_view_count": null,
            "_view_module_version": "1.5.0",
            "box_style": "",
            "layout": "IPY_MODEL_f7aed1926a7c4048ba64181b2d6a5515",
            "_model_module": "@jupyter-widgets/controls",
            "children": [
              "IPY_MODEL_801f195b90084e36aa05045b7afb4a83",
              "IPY_MODEL_24cb047206174f25b52e89697c02ad29"
            ]
          }
        },
        "f7aed1926a7c4048ba64181b2d6a5515": {
          "model_module": "@jupyter-widgets/base",
          "model_name": "LayoutModel",
          "state": {
            "_view_name": "LayoutView",
            "grid_template_rows": null,
            "right": null,
            "justify_content": null,
            "_view_module": "@jupyter-widgets/base",
            "overflow": null,
            "_model_module_version": "1.2.0",
            "_view_count": null,
            "flex_flow": null,
            "width": null,
            "min_width": null,
            "border": null,
            "align_items": null,
            "bottom": null,
            "_model_module": "@jupyter-widgets/base",
            "top": null,
            "grid_column": null,
            "overflow_y": null,
            "overflow_x": null,
            "grid_auto_flow": null,
            "grid_area": null,
            "grid_template_columns": null,
            "flex": null,
            "_model_name": "LayoutModel",
            "justify_items": null,
            "grid_row": null,
            "max_height": null,
            "align_content": null,
            "visibility": null,
            "align_self": null,
            "height": null,
            "min_height": null,
            "padding": null,
            "grid_auto_rows": null,
            "grid_gap": null,
            "max_width": null,
            "order": null,
            "_view_module_version": "1.2.0",
            "grid_template_areas": null,
            "object_position": null,
            "object_fit": null,
            "grid_auto_columns": null,
            "margin": null,
            "display": null,
            "left": null
          }
        },
        "801f195b90084e36aa05045b7afb4a83": {
          "model_module": "@jupyter-widgets/controls",
          "model_name": "FloatProgressModel",
          "state": {
            "_view_name": "ProgressView",
            "style": "IPY_MODEL_f1f2c30abf3b4d649d83ebf9f0600f0b",
            "_dom_classes": [],
            "description": "100%",
            "_model_name": "FloatProgressModel",
            "bar_style": "success",
            "max": 91459,
            "_view_module": "@jupyter-widgets/controls",
            "_model_module_version": "1.5.0",
            "value": 91459,
            "_view_count": null,
            "_view_module_version": "1.5.0",
            "orientation": "horizontal",
            "min": 0,
            "description_tooltip": null,
            "_model_module": "@jupyter-widgets/controls",
            "layout": "IPY_MODEL_b8ad1242a5ce4ecd81ff14282be596df"
          }
        },
        "24cb047206174f25b52e89697c02ad29": {
          "model_module": "@jupyter-widgets/controls",
          "model_name": "HTMLModel",
          "state": {
            "_view_name": "HTMLView",
            "style": "IPY_MODEL_3ccf423e1f1346a2aa50c590e20d0c3e",
            "_dom_classes": [],
            "description": "",
            "_model_name": "HTMLModel",
            "placeholder": "​",
            "_view_module": "@jupyter-widgets/controls",
            "_model_module_version": "1.5.0",
            "value": " 91459/91459 [00:01&lt;00:00, 66447.80it/s]",
            "_view_count": null,
            "_view_module_version": "1.5.0",
            "description_tooltip": null,
            "_model_module": "@jupyter-widgets/controls",
            "layout": "IPY_MODEL_a5efed61285b4665ae28ca7eb5624ede"
          }
        },
        "f1f2c30abf3b4d649d83ebf9f0600f0b": {
          "model_module": "@jupyter-widgets/controls",
          "model_name": "ProgressStyleModel",
          "state": {
            "_view_name": "StyleView",
            "_model_name": "ProgressStyleModel",
            "description_width": "initial",
            "_view_module": "@jupyter-widgets/base",
            "_model_module_version": "1.5.0",
            "_view_count": null,
            "_view_module_version": "1.2.0",
            "bar_color": null,
            "_model_module": "@jupyter-widgets/controls"
          }
        },
        "b8ad1242a5ce4ecd81ff14282be596df": {
          "model_module": "@jupyter-widgets/base",
          "model_name": "LayoutModel",
          "state": {
            "_view_name": "LayoutView",
            "grid_template_rows": null,
            "right": null,
            "justify_content": null,
            "_view_module": "@jupyter-widgets/base",
            "overflow": null,
            "_model_module_version": "1.2.0",
            "_view_count": null,
            "flex_flow": null,
            "width": null,
            "min_width": null,
            "border": null,
            "align_items": null,
            "bottom": null,
            "_model_module": "@jupyter-widgets/base",
            "top": null,
            "grid_column": null,
            "overflow_y": null,
            "overflow_x": null,
            "grid_auto_flow": null,
            "grid_area": null,
            "grid_template_columns": null,
            "flex": null,
            "_model_name": "LayoutModel",
            "justify_items": null,
            "grid_row": null,
            "max_height": null,
            "align_content": null,
            "visibility": null,
            "align_self": null,
            "height": null,
            "min_height": null,
            "padding": null,
            "grid_auto_rows": null,
            "grid_gap": null,
            "max_width": null,
            "order": null,
            "_view_module_version": "1.2.0",
            "grid_template_areas": null,
            "object_position": null,
            "object_fit": null,
            "grid_auto_columns": null,
            "margin": null,
            "display": null,
            "left": null
          }
        },
        "3ccf423e1f1346a2aa50c590e20d0c3e": {
          "model_module": "@jupyter-widgets/controls",
          "model_name": "DescriptionStyleModel",
          "state": {
            "_view_name": "StyleView",
            "_model_name": "DescriptionStyleModel",
            "description_width": "",
            "_view_module": "@jupyter-widgets/base",
            "_model_module_version": "1.5.0",
            "_view_count": null,
            "_view_module_version": "1.2.0",
            "_model_module": "@jupyter-widgets/controls"
          }
        },
        "a5efed61285b4665ae28ca7eb5624ede": {
          "model_module": "@jupyter-widgets/base",
          "model_name": "LayoutModel",
          "state": {
            "_view_name": "LayoutView",
            "grid_template_rows": null,
            "right": null,
            "justify_content": null,
            "_view_module": "@jupyter-widgets/base",
            "overflow": null,
            "_model_module_version": "1.2.0",
            "_view_count": null,
            "flex_flow": null,
            "width": null,
            "min_width": null,
            "border": null,
            "align_items": null,
            "bottom": null,
            "_model_module": "@jupyter-widgets/base",
            "top": null,
            "grid_column": null,
            "overflow_y": null,
            "overflow_x": null,
            "grid_auto_flow": null,
            "grid_area": null,
            "grid_template_columns": null,
            "flex": null,
            "_model_name": "LayoutModel",
            "justify_items": null,
            "grid_row": null,
            "max_height": null,
            "align_content": null,
            "visibility": null,
            "align_self": null,
            "height": null,
            "min_height": null,
            "padding": null,
            "grid_auto_rows": null,
            "grid_gap": null,
            "max_width": null,
            "order": null,
            "_view_module_version": "1.2.0",
            "grid_template_areas": null,
            "object_position": null,
            "object_fit": null,
            "grid_auto_columns": null,
            "margin": null,
            "display": null,
            "left": null
          }
        }
      }
    }
  },
  "cells": [
    {
      "cell_type": "markdown",
      "metadata": {
        "id": "geSbYOzYVX6d"
      },
      "source": [
        "## Loading the data and Libraries"
      ]
    },
    {
      "cell_type": "code",
      "metadata": {
        "colab": {
          "base_uri": "https://localhost:8080/"
        },
        "id": "FzEgbKd93G9I",
        "outputId": "9c5aaf02-bc19-476e-c345-9b9598c50e1f"
      },
      "source": [
        "!nvidia-smi"
      ],
      "execution_count": null,
      "outputs": [
        {
          "output_type": "stream",
          "text": [
            "Wed Dec 16 14:58:29 2020       \n",
            "+-----------------------------------------------------------------------------+\n",
            "| NVIDIA-SMI 455.45.01    Driver Version: 418.67       CUDA Version: 10.1     |\n",
            "|-------------------------------+----------------------+----------------------+\n",
            "| GPU  Name        Persistence-M| Bus-Id        Disp.A | Volatile Uncorr. ECC |\n",
            "| Fan  Temp  Perf  Pwr:Usage/Cap|         Memory-Usage | GPU-Util  Compute M. |\n",
            "|                               |                      |               MIG M. |\n",
            "|===============================+======================+======================|\n",
            "|   0  Tesla P100-PCIE...  Off  | 00000000:00:04.0 Off |                    0 |\n",
            "| N/A   36C    P0    25W / 250W |      0MiB / 16280MiB |      0%      Default |\n",
            "|                               |                      |                 ERR! |\n",
            "+-------------------------------+----------------------+----------------------+\n",
            "                                                                               \n",
            "+-----------------------------------------------------------------------------+\n",
            "| Processes:                                                                  |\n",
            "|  GPU   GI   CI        PID   Type   Process name                  GPU Memory |\n",
            "|        ID   ID                                                   Usage      |\n",
            "|=============================================================================|\n",
            "|  No running processes found                                                 |\n",
            "+-----------------------------------------------------------------------------+\n"
          ],
          "name": "stdout"
        }
      ]
    },
    {
      "cell_type": "code",
      "metadata": {
        "id": "1T381X6LVmwk"
      },
      "source": [
        "import pandas as pd\n",
        "import operator \n",
        "import tensorflow as tf\n",
        "import numpy as np\n",
        "import seaborn as sns\n",
        "import gensim.downloader as api\n",
        "from gensim.models import KeyedVectors\n",
        "from sklearn.model_selection import StratifiedKFold\n",
        "from sklearn.metrics import roc_auc_score\n",
        "import matplotlib.pyplot as plt\n",
        "import nltk\n",
        "from sklearn.metrics import log_loss, confusion_matrix, roc_auc_score, precision_score, recall_score\n",
        "import warnings\n",
        "from tensorflow.keras.utils import plot_model\n",
        "from tensorflow.keras import Sequential, layers, losses, callbacks, metrics, Model, optimizers, utils\n",
        "from tensorflow.keras.layers import Input, LSTM, Flatten, BatchNormalization, Dense, Activation, Concatenate\n",
        "import tensorflow.keras.backend as K\n",
        "import tensorflow_hub as hub\n",
        "from tqdm.notebook import tqdm\n",
        "from sklearn.model_selection import train_test_split\n",
        "import operator \n",
        "warnings.filterwarnings('ignore')\n",
        "tqdm.pandas()"
      ],
      "execution_count": null,
      "outputs": []
    },
    {
      "cell_type": "code",
      "metadata": {
        "colab": {
          "base_uri": "https://localhost:8080/"
        },
        "id": "p-R57GC0Vyar",
        "outputId": "ab570a8f-6930-4b5a-f231-6d2dd57ede41"
      },
      "source": [
        "df = pd.read_csv('/content/drive/MyDrive/Data/Quora/input/result_version_2.csv')\n",
        "df = df.sample(frac=1, random_state=1).reset_index(drop=True)\n",
        "df.head(2)"
      ],
      "execution_count": null,
      "outputs": [
        {
          "output_type": "execute_result",
          "data": {
            "text/html": [
              "<div>\n",
              "<style scoped>\n",
              "    .dataframe tbody tr th:only-of-type {\n",
              "        vertical-align: middle;\n",
              "    }\n",
              "\n",
              "    .dataframe tbody tr th {\n",
              "        vertical-align: top;\n",
              "    }\n",
              "\n",
              "    .dataframe thead th {\n",
              "        text-align: right;\n",
              "    }\n",
              "</style>\n",
              "<table border=\"1\" class=\"dataframe\">\n",
              "  <thead>\n",
              "    <tr style=\"text-align: right;\">\n",
              "      <th></th>\n",
              "      <th>id</th>\n",
              "      <th>qid1</th>\n",
              "      <th>qid2</th>\n",
              "      <th>question1</th>\n",
              "      <th>question2</th>\n",
              "      <th>is_duplicate</th>\n",
              "      <th>selected_1</th>\n",
              "      <th>selected_2</th>\n",
              "      <th>selected_3</th>\n",
              "      <th>selected_4</th>\n",
              "      <th>selected_5</th>\n",
              "      <th>selected_6</th>\n",
              "      <th>selected_7</th>\n",
              "      <th>selected_8</th>\n",
              "      <th>selected_9</th>\n",
              "      <th>selected_10</th>\n",
              "    </tr>\n",
              "  </thead>\n",
              "  <tbody>\n",
              "    <tr>\n",
              "      <th>0</th>\n",
              "      <td>237030</td>\n",
              "      <td>33086</td>\n",
              "      <td>348102</td>\n",
              "      <td>how can i stop playing video games?</td>\n",
              "      <td>should i stop playing video games with my child?</td>\n",
              "      <td>0</td>\n",
              "      <td>4.0</td>\n",
              "      <td>4.0</td>\n",
              "      <td>2.0</td>\n",
              "      <td>0.999980</td>\n",
              "      <td>0.833319</td>\n",
              "      <td>0.249994</td>\n",
              "      <td>1.0</td>\n",
              "      <td>0.0</td>\n",
              "      <td>9.0</td>\n",
              "      <td>0.750000</td>\n",
              "    </tr>\n",
              "    <tr>\n",
              "      <th>1</th>\n",
              "      <td>247341</td>\n",
              "      <td>73272</td>\n",
              "      <td>8624</td>\n",
              "      <td>who is better donald trump or hillary clinton?</td>\n",
              "      <td>why is hillary clinton a better choice than do...</td>\n",
              "      <td>1</td>\n",
              "      <td>4.0</td>\n",
              "      <td>26.0</td>\n",
              "      <td>10.0</td>\n",
              "      <td>0.999983</td>\n",
              "      <td>0.857131</td>\n",
              "      <td>0.249994</td>\n",
              "      <td>1.0</td>\n",
              "      <td>0.0</td>\n",
              "      <td>10.0</td>\n",
              "      <td>0.340426</td>\n",
              "    </tr>\n",
              "  </tbody>\n",
              "</table>\n",
              "</div>"
            ],
            "text/plain": [
              "       id   qid1    qid2  ... selected_8 selected_9  selected_10\n",
              "0  237030  33086  348102  ...        0.0        9.0     0.750000\n",
              "1  247341  73272    8624  ...        0.0       10.0     0.340426\n",
              "\n",
              "[2 rows x 16 columns]"
            ]
          },
          "metadata": {
            "tags": []
          },
          "execution_count": 3
        }
      ]
    },
    {
      "cell_type": "markdown",
      "metadata": {
        "id": "NiOeoMm0dPKf"
      },
      "source": [
        "## Creating Tokenizer"
      ]
    },
    {
      "cell_type": "code",
      "metadata": {
        "id": "rOfAsGmldTAL"
      },
      "source": [
        "from tensorflow.keras.preprocessing import text, sequence"
      ],
      "execution_count": null,
      "outputs": []
    },
    {
      "cell_type": "code",
      "metadata": {
        "id": "nwMrgu9ceOl6"
      },
      "source": [
        "tokenizer = text.Tokenizer(oov_token='<OOV>', num_words = 20000)\n",
        "tokenizer.fit_on_texts(df['question1'])\n",
        "tokenizer.fit_on_texts(df['question2'])"
      ],
      "execution_count": null,
      "outputs": []
    },
    {
      "cell_type": "markdown",
      "metadata": {
        "id": "9c_rzNYWVEGF"
      },
      "source": [
        "## Function to plot confusion matrix"
      ]
    },
    {
      "cell_type": "code",
      "metadata": {
        "id": "pV6li4TeVEjz"
      },
      "source": [
        "def plot_confusion_matrix(test_y, predict_y):\n",
        "    C = confusion_matrix(test_y, predict_y)\n",
        "    \n",
        "    A =(((C.T)/(C.sum(axis=1))).T)\n",
        "\n",
        "    B =(C/C.sum(axis=0))\n",
        "\n",
        "    plt.figure(figsize=(20,4))\n",
        "    \n",
        "    labels = [1,2]\n",
        "\n",
        "    cmap=sns.light_palette(\"blue\")\n",
        "    plt.subplot(1, 3, 1)\n",
        "    sns.heatmap(C, annot=True, cmap=cmap, fmt=\".3f\", xticklabels=labels, yticklabels=labels)\n",
        "    plt.xlabel('Predicted Class')\n",
        "    plt.ylabel('Original Class')\n",
        "    plt.title(\"Confusion matrix\")\n",
        "    \n",
        "    plt.subplot(1, 3, 2)\n",
        "    sns.heatmap(B, annot=True, cmap=cmap, fmt=\".3f\", xticklabels=labels, yticklabels=labels)\n",
        "    plt.xlabel('Predicted Class')\n",
        "    plt.ylabel('Original Class')\n",
        "    plt.title(\"Precision matrix\")\n",
        "    \n",
        "    plt.subplot(1, 3, 3)\n",
        "    sns.heatmap(A, annot=True, cmap=cmap, fmt=\".3f\", xticklabels=labels, yticklabels=labels)\n",
        "    plt.xlabel('Predicted Class')\n",
        "    plt.ylabel('Original Class')\n",
        "    plt.title(\"Recall matrix\")\n",
        "    \n",
        "    plt.show()"
      ],
      "execution_count": null,
      "outputs": []
    },
    {
      "cell_type": "markdown",
      "metadata": {
        "id": "__ShH3kqVbHm"
      },
      "source": [
        "## Splitting the dataset and creating sequences"
      ]
    },
    {
      "cell_type": "code",
      "metadata": {
        "id": "k8Y5ZqxjVgCL"
      },
      "source": [
        "x_train, x_test, y_train, y_test = train_test_split(df, df['is_duplicate'], stratify=df['is_duplicate'], test_size=0.3, random_state=1) "
      ],
      "execution_count": null,
      "outputs": []
    },
    {
      "cell_type": "code",
      "metadata": {
        "id": "7cCERNHQWMeK"
      },
      "source": [
        "sequence1_train = tokenizer.texts_to_sequences(x_train['question1'])\n",
        "sequence1_train = tf.keras.preprocessing.sequence.pad_sequences(sequence1_train, maxlen=500)\n",
        "\n",
        "sequence1_test = tokenizer.texts_to_sequences(x_test['question1'])\n",
        "sequence1_test = tf.keras.preprocessing.sequence.pad_sequences(sequence1_test, maxlen=500)"
      ],
      "execution_count": null,
      "outputs": []
    },
    {
      "cell_type": "code",
      "metadata": {
        "id": "BfAbsU3OWmvM"
      },
      "source": [
        "sequence2_train = tokenizer.texts_to_sequences(x_train['question2'])\n",
        "sequence2_train = tf.keras.preprocessing.sequence.pad_sequences(sequence2_train, maxlen=500)\n",
        "\n",
        "sequence2_test = tokenizer.texts_to_sequences(x_test['question2'])\n",
        "sequence2_test = tf.keras.preprocessing.sequence.pad_sequences(sequence2_test, maxlen=500)"
      ],
      "execution_count": null,
      "outputs": []
    },
    {
      "cell_type": "code",
      "metadata": {
        "colab": {
          "base_uri": "https://localhost:8080/"
        },
        "id": "UjYTUTAkXhiu",
        "outputId": "0d0b211f-46bb-45ff-8007-738b643208e5"
      },
      "source": [
        "cols = df.columns.values\n",
        "cols[6:]"
      ],
      "execution_count": null,
      "outputs": [
        {
          "output_type": "execute_result",
          "data": {
            "text/plain": [
              "array(['selected_1', 'selected_2', 'selected_3', 'selected_4',\n",
              "       'selected_5', 'selected_6', 'selected_7', 'selected_8',\n",
              "       'selected_9', 'selected_10'], dtype=object)"
            ]
          },
          "metadata": {
            "tags": []
          },
          "execution_count": 10
        }
      ]
    },
    {
      "cell_type": "code",
      "metadata": {
        "id": "3kSHEKtQXY9Y"
      },
      "source": [
        "numeric_train = x_train[cols[6:]]\n",
        "numeric_test = x_test[cols[6:]]"
      ],
      "execution_count": null,
      "outputs": []
    },
    {
      "cell_type": "code",
      "metadata": {
        "id": "_pZT_j08WnX6"
      },
      "source": [
        "vocab_size = len(tokenizer.word_index.keys())\n",
        "max_len = 2000"
      ],
      "execution_count": null,
      "outputs": []
    },
    {
      "cell_type": "markdown",
      "metadata": {
        "id": "CsR9PuyKl4tX"
      },
      "source": [
        "## Building Embedding Matrix"
      ]
    },
    {
      "cell_type": "code",
      "metadata": {
        "colab": {
          "base_uri": "https://localhost:8080/"
        },
        "id": "z9VSgCH0mWHQ",
        "outputId": "2cfbec8e-2692-4b9c-9e12-7b9dc5e92617"
      },
      "source": [
        "api.info()['models'].keys()"
      ],
      "execution_count": null,
      "outputs": [
        {
          "output_type": "execute_result",
          "data": {
            "text/plain": [
              "dict_keys(['fasttext-wiki-news-subwords-300', 'conceptnet-numberbatch-17-06-300', 'word2vec-ruscorpora-300', 'word2vec-google-news-300', 'glove-wiki-gigaword-50', 'glove-wiki-gigaword-100', 'glove-wiki-gigaword-200', 'glove-wiki-gigaword-300', 'glove-twitter-25', 'glove-twitter-50', 'glove-twitter-100', 'glove-twitter-200', '__testing_word2vec-matrix-synopsis'])"
            ]
          },
          "metadata": {
            "tags": []
          },
          "execution_count": 13
        }
      ]
    },
    {
      "cell_type": "code",
      "metadata": {
        "colab": {
          "base_uri": "https://localhost:8080/"
        },
        "id": "ap-YDk8DnnUb",
        "outputId": "bd31c9fa-ae91-45b3-96ac-43f6e9b5ca49"
      },
      "source": [
        "embedding_model = api.load('glove-wiki-gigaword-100')"
      ],
      "execution_count": null,
      "outputs": [
        {
          "output_type": "stream",
          "text": [
            "[==================================================] 100.0% 128.1/128.1MB downloaded\n"
          ],
          "name": "stdout"
        }
      ]
    },
    {
      "cell_type": "code",
      "metadata": {
        "colab": {
          "base_uri": "https://localhost:8080/",
          "height": 67,
          "referenced_widgets": [
            "fc2a243dd5d54ee197291d80c56da9fe",
            "f7aed1926a7c4048ba64181b2d6a5515",
            "801f195b90084e36aa05045b7afb4a83",
            "24cb047206174f25b52e89697c02ad29",
            "f1f2c30abf3b4d649d83ebf9f0600f0b",
            "b8ad1242a5ce4ecd81ff14282be596df",
            "3ccf423e1f1346a2aa50c590e20d0c3e",
            "a5efed61285b4665ae28ca7eb5624ede"
          ]
        },
        "id": "OcL0Vb-Xl8PX",
        "outputId": "b4db1f5c-9a40-4e69-e63d-62955ec2d0af"
      },
      "source": [
        "word2idx = tokenizer.word_index\n",
        "\n",
        "embedding_weights = np.zeros((vocab_size, 100))\n",
        "\n",
        "for word, idx in tqdm(word2idx.items()):\n",
        "\n",
        "  try:\n",
        "    embedding_weights[idx] = embedding_model[word]\n",
        "\n",
        "  except:\n",
        "    pass"
      ],
      "execution_count": null,
      "outputs": [
        {
          "output_type": "display_data",
          "data": {
            "application/vnd.jupyter.widget-view+json": {
              "model_id": "fc2a243dd5d54ee197291d80c56da9fe",
              "version_minor": 0,
              "version_major": 2
            },
            "text/plain": [
              "HBox(children=(FloatProgress(value=0.0, max=91459.0), HTML(value='')))"
            ]
          },
          "metadata": {
            "tags": []
          }
        },
        {
          "output_type": "stream",
          "text": [
            "\n"
          ],
          "name": "stdout"
        }
      ]
    },
    {
      "cell_type": "markdown",
      "metadata": {
        "id": "CCdWlsImXuBs"
      },
      "source": [
        "## Creating the Baseline Model"
      ]
    },
    {
      "cell_type": "code",
      "metadata": {
        "colab": {
          "base_uri": "https://localhost:8080/",
          "height": 313
        },
        "id": "VZ08_5kEU1CJ",
        "outputId": "1dd02906-6c94-49a0-a0e4-4f408f6eeb6e"
      },
      "source": [
        "predicted_y = np.zeros((len(y_test),2))\n",
        "\n",
        "for i in range(len(y_test)):\n",
        "    rand_probs = np.random.rand(1,2)\n",
        "    predicted_y[i] = ((rand_probs/sum(sum(rand_probs)))[0])\n",
        "print(\"Log loss on Test Data using Random Model\",log_loss(y_test, predicted_y, eps=1e-15))\n",
        "\n",
        "predicted_y =np.argmax(predicted_y, axis=1)\n",
        "plot_confusion_matrix(y_test, predicted_y)"
      ],
      "execution_count": null,
      "outputs": [
        {
          "output_type": "stream",
          "text": [
            "Log loss on Test Data using Random Model 0.8871751088658387\n"
          ],
          "name": "stdout"
        },
        {
          "output_type": "display_data",
          "data": {
            "image/png": "[encoded data removed]",
            "text/plain": [
              "<Figure size 1440x288 with 6 Axes>"
            ]
          },
          "metadata": {
            "tags": [],
            "needs_background": "light"
          }
        }
      ]
    },
    {
      "cell_type": "markdown",
      "metadata": {
        "id": "wFs5RjytYvod"
      },
      "source": [
        "## Creating Multi-Channel Neuarl Network"
      ]
    },
    {
      "cell_type": "code",
      "metadata": {
        "id": "aEjrNEeLY8X6"
      },
      "source": [
        "left_input = layers.Input(shape=(500, ))\n",
        "right_input = layers.Input(shape=(500, ))"
      ],
      "execution_count": null,
      "outputs": []
    },
    {
      "cell_type": "code",
      "metadata": {
        "id": "rerVecvF13cf"
      },
      "source": [
        "embed_layer = layers.Embedding(vocab_size, 100, input_length=500, weights=[embedding_weights], trainable=False)"
      ],
      "execution_count": null,
      "outputs": []
    },
    {
      "cell_type": "code",
      "metadata": {
        "id": "t0wQbdbK1qQE"
      },
      "source": [
        "q1_embed = embed_layer(left_input)\n",
        "q2_embed = embed_layer(right_input)"
      ],
      "execution_count": null,
      "outputs": []
    },
    {
      "cell_type": "code",
      "metadata": {
        "id": "EN3eEDQaY9SU"
      },
      "source": [
        "q1_flat = layers.Flatten()(q1_embed)\n",
        "q1_final = layers.Dense(64, activation='relu')(q1_flat)\n",
        "\n",
        "q2_flat = layers.Flatten()(q2_embed)\n",
        "q2_final = layers.Dense(64, activation='relu')(q2_flat)"
      ],
      "execution_count": null,
      "outputs": []
    },
    {
      "cell_type": "code",
      "metadata": {
        "id": "4EE6Saf-Y_Zb"
      },
      "source": [
        "numeric_input = layers.Input(shape=(10, ))"
      ],
      "execution_count": null,
      "outputs": []
    },
    {
      "cell_type": "code",
      "metadata": {
        "id": "KfW6tnRtZV24"
      },
      "source": [
        "united = layers.Subtract()([q1_final, q2_final])\n",
        "united = layers.Concatenate(axis=1)([united, numeric_input])\n",
        "output = Dense(1, activation='sigmoid')(united)"
      ],
      "execution_count": null,
      "outputs": []
    },
    {
      "cell_type": "code",
      "metadata": {
        "id": "pDDpS4N-ZtOJ"
      },
      "source": [
        "model = Model(inputs=[left_input, right_input, numeric_input], outputs=[output])\n",
        "\n",
        "model.compile(optimizer=optimizers.Adam(),loss='binary_crossentropy', metrics=[tf.keras.metrics.AUC(), 'accuracy'])"
      ],
      "execution_count": null,
      "outputs": []
    },
    {
      "cell_type": "code",
      "metadata": {
        "colab": {
          "base_uri": "https://localhost:8080/",
          "height": 661
        },
        "id": "MeUoJxakZle1",
        "outputId": "d263727f-41fa-4085-ccbd-9955a6cc3f01"
      },
      "source": [
        "utils.plot_model(model)"
      ],
      "execution_count": null,
      "outputs": [
        {
          "output_type": "execute_result",
          "data": {
            "image/png": "[encoded data removed]",
            "text/plain": [
              "<IPython.core.display.Image object>"
            ]
          },
          "metadata": {
            "tags": []
          },
          "execution_count": 35
        }
      ]
    },
    {
      "cell_type": "markdown",
      "metadata": {
        "id": "OeORyh88aDQY"
      },
      "source": [
        "## Defining Model Checkpoint and Schedular"
      ]
    },
    {
      "cell_type": "code",
      "metadata": {
        "colab": {
          "base_uri": "https://localhost:8080/"
        },
        "id": "0PNqwOQVZnfZ",
        "outputId": "60b52a57-29d7-488f-bb19-d76930319866"
      },
      "source": [
        "# Defining model callbacks\n",
        "reduce_lr_loss = callbacks.ReduceLROnPlateau(monitor='val_loss', factor=0.1, patience=3, verbose=1, epsilon=1e-4, mode='min')\n",
        "\n",
        "checkpoint_path = '/content/drive/MyDrive/Data/Quora/final_model.hdf5'\n",
        "\n",
        "cb_checkpt = callbacks.ModelCheckpoint(checkpoint_path, monitor='val_loss', verbose=0, save_best_only=True, \n",
        "                            save_weights_only=False, mode='min')"
      ],
      "execution_count": null,
      "outputs": [
        {
          "output_type": "stream",
          "text": [
            "WARNING:tensorflow:`epsilon` argument is deprecated and will be removed, use `min_delta` instead.\n"
          ],
          "name": "stdout"
        }
      ]
    },
    {
      "cell_type": "markdown",
      "metadata": {
        "id": "1pwYnauhD4VO"
      },
      "source": [
        "## Training the model"
      ]
    },
    {
      "cell_type": "code",
      "metadata": {
        "colab": {
          "base_uri": "https://localhost:8080/"
        },
        "id": "9zrFoVmzdR2q",
        "outputId": "2e2567e5-30bb-482d-c03b-4f3a3b72927d"
      },
      "source": [
        "history = model.fit([sequence1_train, sequence2_train, numeric_train], y_train, \n",
        "                    validation_data = ([sequence1_test, sequence2_test, numeric_test], y_test),\n",
        "            epochs=5, batch_size=32, callbacks=[reduce_lr_loss, cb_checkpt])"
      ],
      "execution_count": null,
      "outputs": [
        {
          "output_type": "stream",
          "text": [
            "Epoch 1/5\n",
            "8844/8844 [==============================] - 68s 8ms/step - loss: 0.4313 - auc_1: 0.8683 - accuracy: 0.7830 - val_loss: 0.4036 - val_auc_1: 0.8897 - val_accuracy: 0.7965\n",
            "Epoch 2/5\n",
            "8844/8844 [==============================] - 66s 7ms/step - loss: 0.3879 - auc_1: 0.8963 - accuracy: 0.8081 - val_loss: 0.3912 - val_auc_1: 0.8951 - val_accuracy: 0.8065\n",
            "Epoch 3/5\n",
            "8844/8844 [==============================] - 65s 7ms/step - loss: 0.3707 - auc_1: 0.9060 - accuracy: 0.8184 - val_loss: 0.3894 - val_auc_1: 0.8955 - val_accuracy: 0.8099\n",
            "Epoch 4/5\n",
            "8844/8844 [==============================] - 64s 7ms/step - loss: 0.3552 - auc_1: 0.9142 - accuracy: 0.8276 - val_loss: 0.3985 - val_auc_1: 0.8940 - val_accuracy: 0.8094\n",
            "Epoch 5/5\n",
            "8844/8844 [==============================] - 64s 7ms/step - loss: 0.3397 - auc_1: 0.9220 - accuracy: 0.8369 - val_loss: 0.3942 - val_auc_1: 0.8959 - val_accuracy: 0.8139\n"
          ],
          "name": "stdout"
        }
      ]
    },
    {
      "cell_type": "markdown",
      "metadata": {
        "id": "K5RwKIHkD8ph"
      },
      "source": [
        "## Analysis of model results"
      ]
    },
    {
      "cell_type": "code",
      "metadata": {
        "colab": {
          "base_uri": "https://localhost:8080/"
        },
        "id": "Vf4BlZ-BFTfT",
        "outputId": "dad0d8ca-2faa-480d-b225-44f92a3af3d4"
      },
      "source": [
        "history.history.keys()"
      ],
      "execution_count": null,
      "outputs": [
        {
          "output_type": "execute_result",
          "data": {
            "text/plain": [
              "dict_keys(['loss', 'auc_1', 'accuracy', 'val_loss', 'val_auc_1', 'val_accuracy', 'lr'])"
            ]
          },
          "metadata": {
            "tags": []
          },
          "execution_count": 38
        }
      ]
    },
    {
      "cell_type": "code",
      "metadata": {
        "colab": {
          "base_uri": "https://localhost:8080/",
          "height": 352
        },
        "id": "10HUnATOhkPY",
        "outputId": "47d28659-9302-4bc7-c911-011de6bdd105"
      },
      "source": [
        "plt.figure(figsize=(15,5))\n",
        "plt.subplot(1,2,1)\n",
        "plt.plot(history.epoch, history.history['loss'], label='train')\n",
        "plt.plot(history.epoch, history.history['val_loss'], label='validation')\n",
        "plt.xlabel('Epoch')\n",
        "plt.ylabel('Loss')\n",
        "plt.subplot(1,2,2)\n",
        "plt.plot(history.epoch, history.history['auc_1'],label='train')\n",
        "plt.plot(history.epoch, history.history['val_auc_1'], label='validation')\n",
        "plt.legend()\n",
        "plt.xlabel('Epoch')\n",
        "plt.ylabel('AUC')"
      ],
      "execution_count": null,
      "outputs": [
        {
          "output_type": "execute_result",
          "data": {
            "text/plain": [
              "Text(0, 0.5, 'AUC')"
            ]
          },
          "metadata": {
            "tags": []
          },
          "execution_count": 43
        },
        {
          "output_type": "display_data",
          "data": {
            "image/png": "[encoded data removed]",
            "text/plain": [
              "<Figure size 1080x360 with 2 Axes>"
            ]
          },
          "metadata": {
            "tags": [],
            "needs_background": "light"
          }
        }
      ]
    }
  ]
}
